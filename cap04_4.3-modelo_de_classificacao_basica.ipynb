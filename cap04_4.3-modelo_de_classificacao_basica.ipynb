{
 "cells": [
  {
   "cell_type": "markdown",
   "id": "312c45c1-bbbf-4e48-b0a4-940f858d1df7",
   "metadata": {},
   "source": [
    "# 4.3. O modelo de classificação básica\n",
    "\n",
    "Esta seção fornece uma classe base para modelos de classificação para simplificar o código futuro."
   ]
  },
  {
   "cell_type": "code",
   "execution_count": 1,
   "id": "cc182aa2-4637-4342-900b-9122360b69ee",
   "metadata": {},
   "outputs": [],
   "source": [
    "import torch\n",
    "from d2l import torch as d2l"
   ]
  },
  {
   "cell_type": "markdown",
   "id": "2d7fb1cc-4613-4f70-aa02-020f0508e75a",
   "metadata": {},
   "source": [
    "# 4.3.1. The Classifier Class"
   ]
  },
  {
   "cell_type": "code",
   "execution_count": 3,
   "id": "8b5c9146-c15c-4475-81e7-ba7101a90fb2",
   "metadata": {},
   "outputs": [],
   "source": [
    "class Classifier(d2l.Module):  #@save\n",
    "    \"\"\"The base class of classification models.\"\"\"\n",
    "    def validation_step(self, batch):\n",
    "        Y_hat = self(*batch[:-1])\n",
    "        self.plot('loss', self.loss(Y_hat, batch[-1]), train=False)\n",
    "        self.plot('acc', self.accuracy(Y_hat, batch[-1]), train=False)"
   ]
  },
  {
   "cell_type": "markdown",
   "id": "6440b54d-806d-44d6-a97d-439ada431cab",
   "metadata": {},
   "source": [
    "Por padrão, usamos um otimizador estocástico de descida de gradiente, operando em minilotes, assim como fizemos no contexto de regressão linear."
   ]
  },
  {
   "cell_type": "code",
   "execution_count": 4,
   "id": "33faed69-d38b-4639-9059-f45f07080d0c",
   "metadata": {},
   "outputs": [],
   "source": [
    "@d2l.add_to_class(d2l.Module)  #@save\n",
    "def configure_optimizers(self):\n",
    "    return torch.optim.SGD(self.parameters(), lr=self.lr)"
   ]
  },
  {
   "cell_type": "markdown",
   "id": "48cc1bab-4085-4d4d-8a0e-6c673e706f44",
   "metadata": {},
   "source": [
    "# 4.3.2. Accuracy (Precisão)\n",
    "\n",
    "Dada a distribuição de probabilidade prevista y_hat, normalmente escolhemos a classe com a maior probabilidade prevista sempre que devemos produzir uma previsão difícil. \n",
    "\n",
    "Quando as previsões são consistentes com o rótulo class y, elas estão corretas. A precisão da classificação é a fração de todas as previsões corretas. Embora possa ser difícil otimizar a precisão diretamente (não é diferenciável), muitas vezes é a medida de desempenho que mais nos preocupa. Muitas vezes é a quantidade relevante nos benchmarks. "
   ]
  },
  {
   "cell_type": "code",
   "execution_count": 5,
   "id": "98d6e50c-ae3e-4ac5-a383-d6e7bfec3a45",
   "metadata": {},
   "outputs": [],
   "source": [
    "@d2l.add_to_class(Classifier)  #@save\n",
    "def accuracy(self, Y_hat, Y, averaged=True):\n",
    "    \"\"\"Compute the number of correct predictions.\"\"\"\n",
    "    Y_hat = Y_hat.reshape((-1, Y_hat.shape[-1]))\n",
    "    preds = Y_hat.argmax(axis=1).type(Y.dtype)\n",
    "    compare = (preds == Y.reshape(-1)).type(torch.float32)\n",
    "    return compare.mean() if averaged else compare"
   ]
  },
  {
   "cell_type": "markdown",
   "id": "a24b2ec7-a024-4900-a723-64ca8d87dc3c",
   "metadata": {},
   "source": [
    "A classificação é um problema suficientemente comum que justifica suas próprias funções de conveniência. De importância central na classificação é a precisão (accuracy)  do classificador"
   ]
  },
  {
   "cell_type": "code",
   "execution_count": null,
   "id": "6acc9e59-5233-4fde-a4e5-e4e3218829a5",
   "metadata": {},
   "outputs": [],
   "source": []
  }
 ],
 "metadata": {
  "kernelspec": {
   "display_name": "Python 3 (ipykernel)",
   "language": "python",
   "name": "python3"
  },
  "language_info": {
   "codemirror_mode": {
    "name": "ipython",
    "version": 3
   },
   "file_extension": ".py",
   "mimetype": "text/x-python",
   "name": "python",
   "nbconvert_exporter": "python",
   "pygments_lexer": "ipython3",
   "version": "3.11.9"
  }
 },
 "nbformat": 4,
 "nbformat_minor": 5
}
