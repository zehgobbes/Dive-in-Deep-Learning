{
 "cells": [
  {
   "cell_type": "markdown",
   "id": "cc741d9c-5061-4e16-9b78-e69f03c4130f",
   "metadata": {},
   "source": [
    "# 3.3. Synthetic Regression Data"
   ]
  },
  {
   "cell_type": "markdown",
   "id": "abd94e65-9dfb-4a89-b3cc-f6fd5d906d26",
   "metadata": {},
   "source": [
    "O que poderíamos aprender com os dados sintéticos? \n",
    "Se criarmos dados para os quais os parâmetros corretos são conhecidos a priori , podemos verificar se nosso modelo pode de fato recuperá-los."
   ]
  },
  {
   "cell_type": "code",
   "execution_count": 3,
   "id": "1d05557a-08c7-4aaa-aa6b-3d04853bc6b8",
   "metadata": {},
   "outputs": [],
   "source": [
    "%matplotlib inline\n",
    "import random\n",
    "import torch\n",
    "from d2l import torch as d2l"
   ]
  },
  {
   "cell_type": "markdown",
   "id": "9471b671-d517-4b13-9ec9-bcdd40624461",
   "metadata": {},
   "source": [
    "# 3.3.1. Gerando o conjunto de dados\n",
    "\n",
    "O trecho de código a seguir gera 1.000 exemplos com recursos bidimensionais extraídos de uma distribuição normal padrão.\n",
    "\n",
    "<math xmlns=\"http://www.w3.org/1998/Math/MathML\" display=\"block\">\n",
    "  <mrow data-mjx-texclass=\"ORD\">\n",
    "    <mi mathvariant=\"bold\">y</mi>\n",
    "  </mrow>\n",
    "  <mo>=</mo>\n",
    "  <mrow data-mjx-texclass=\"ORD\">\n",
    "    <mi mathvariant=\"bold\">X</mi>\n",
    "  </mrow>\n",
    "  <mrow data-mjx-texclass=\"ORD\">\n",
    "    <mi mathvariant=\"bold\">w</mi>\n",
    "  </mrow>\n",
    "  <mo>+</mo>\n",
    "  <mi>b</mi>\n",
    "  <mo>+</mo>\n",
    "  <mi mathvariant=\"bold-italic\">ϵ</mi>\n",
    "  <mo>.</mo>\n",
    "</math>\n",
    "\n",
    "\n",
    "Por conveniência assumimos que \\boldsymbol{\\epsilon} é extraído de uma distribuição normal com média=0 e desvio padrão=0,01.\n"
   ]
  },
  {
   "cell_type": "code",
   "execution_count": 6,
   "id": "3f751e16-eb1c-46af-9304-6211ff5d3c53",
   "metadata": {},
   "outputs": [],
   "source": [
    "class SyntheticRegressionData(d2l.DataModule):  #@save\n",
    "    \"\"\"Synthetic data for linear regression.\"\"\"\n",
    "    def __init__(self, w, b, noise=0.01, num_train=1000, num_val=1000,\n",
    "                 batch_size=32):            # batch=lotes de tamanho 32\n",
    "        super().__init__()                  # A função super() encaminha os parâmetros da classe filha para a classe mãe.\n",
    "        self.save_hyperparameters()\n",
    "        n = num_train + num_val             # n = n_treinamento + n_validação = 1000 + 1000 = 2000\n",
    "        self.X = torch.randn(n, len(w))     # matriz X (2000x2) com elementos aleatórios\n",
    "        noise = torch.randn(n, 1) * noise   # vetor noise (2000x1) com elementos aleatórios\n",
    "        self.y = torch.matmul(self.X, w.reshape((-1, 1))) + b + noise"
   ]
  },
  {
   "attachments": {
    "28535643-f6e6-4544-b8c8-f3f97b5cc6db.png": {
     "image/png": "[encoded data removed]"
    }
   },
   "cell_type": "markdown",
   "id": "7d239533-c4ce-4a63-bb9d-2bbb137f38a7",
   "metadata": {},
   "source": [
    "Produto entre matrizes: índices\n",
    "\n",
    "![image.png](attachment:28535643-f6e6-4544-b8c8-f3f97b5cc6db.png)\n",
    "\n",
    "X(2000x2)*w(2x1) = y1(2000x1)\n",
    "\n",
    "y =  y1(2000x1) + noise(2000x1) + b(constante=4.2) = vetor y(2000x1)\n",
    "\n",
    "Parâmetros verdadeiros de w e b."
   ]
  },
  {
   "cell_type": "code",
   "execution_count": 13,
   "id": "d46644ba-52e7-49da-99ef-90db230fd6fd",
   "metadata": {},
   "outputs": [],
   "source": [
    "data = SyntheticRegressionData(w=torch.tensor([2, -3.4]), b=4.2)\n",
    "# w é vetor (2x1)\n",
    "# b é constante"
   ]
  },
  {
   "cell_type": "markdown",
   "id": "24f61f4d-348c-4dce-a83c-67b8b2dbc273",
   "metadata": {},
   "source": [
    "Mais tarde, podemos verificar nossos parâmetros estimados em relação a esses valores reais de w e b.\n",
    "\n",
    "Vamos dar uma olhada na primeira entrada."
   ]
  },
  {
   "cell_type": "code",
   "execution_count": 14,
   "id": "1b493c6e-cd95-4e45-928d-44895fc646fc",
   "metadata": {},
   "outputs": [
    {
     "name": "stdout",
     "output_type": "stream",
     "text": [
      "features: tensor([-0.3416,  0.9991]) \n",
      "label: tensor([0.1097])\n"
     ]
    }
   ],
   "source": [
    "print('features:', data.X[0],'\\nlabel:', data.y[0])\n",
    "# X é matriz (2000x2)\n",
    "# y é vetor "
   ]
  },
  {
   "cell_type": "markdown",
   "id": "262d822f-a357-4682-a462-4e34a445bedc",
   "metadata": {},
   "source": [
    "# 3.3.2. Lendo o conjunto de dados\n"
   ]
  },
  {
   "cell_type": "markdown",
   "id": "f66daaec-4661-4c87-a918-af0761655b7c",
   "metadata": {},
   "source": [
    "O treinamento de modelos de aprendizado de máquina geralmente requer várias passagens por um conjunto de dados, capturando um minilote de exemplos por vez.\n",
    "\n",
    "Cada minilote consiste em uma tupla de recursos e rótulos.\n",
    "\n",
    "TUPLAS SÃO ATRIBUÍDAS COM PARÊNTESES (): ordenadas, IMUTÁVEIS e heterogêneas.\n",
    "\n",
    "Observe que precisamos estar atentos se estamos no modo de treinamento ou de validação: no primeiro caso, desejaremos ler os dados em ordem aleatória, enquanto no segundo caso, ser capaz de ler os dados em uma ordem predefinida pode ser importante para fins de depuração."
   ]
  },
  {
   "cell_type": "code",
   "execution_count": 16,
   "id": "a068d6e7-76a8-4510-8c58-d8eeb5b49498",
   "metadata": {},
   "outputs": [],
   "source": [
    "# Captura minilotes\n",
    "\n",
    "@d2l.add_to_class(SyntheticRegressionData)    # decorator para adicionar a função abaixo a classe SyntheticRegressionData, definida no bloco acima.\n",
    "def get_dataloader(self, train):\n",
    "    if train:\n",
    "        indices = list(range(0, self.num_train))\n",
    "        # The examples are read in random order\n",
    "        random.shuffle(indices)\n",
    "    else:\n",
    "        indices = list(range(self.num_train, self.num_train+self.num_val))\n",
    "    for i in range(0, len(indices), self.batch_size):\n",
    "        batch_indices = torch.tensor(indices[i: i+self.batch_size])\n",
    "        yield self.X[batch_indices], self.y[batch_indices]                  # bathc = lote"
   ]
  },
  {
   "cell_type": "markdown",
   "id": "3dc20555-5ad7-4b0e-9a53-468218184cef",
   "metadata": {},
   "source": [
    "Para construir alguma intuição, vamos inspecionar o primeiro minilote de dados. Cada minilote de recursos nos fornece seu tamanho e a dimensionalidade dos recursos de entrada."
   ]
  },
  {
   "cell_type": "code",
   "execution_count": 22,
   "id": "f093a3ba-35b4-4c20-8d7c-b0a731d3ad9d",
   "metadata": {},
   "outputs": [
    {
     "name": "stdout",
     "output_type": "stream",
     "text": [
      "X shape: torch.Size([32, 2]) \n",
      "y shape: torch.Size([32, 1])\n"
     ]
    }
   ],
   "source": [
    "# tamanho e dimensão dos minilotes:\n",
    "X, y = next(iter(data.train_dataloader()))\n",
    "print('X shape:', X.shape, '\\ny shape:', y.shape) # formato correspondente ao dado por batch_size."
   ]
  },
  {
   "cell_type": "code",
   "execution_count": 23,
   "id": "0bb75745-22fc-46b0-8b6e-70cac2d65ad4",
   "metadata": {},
   "outputs": [
    {
     "data": {
      "text/plain": [
       "tensor([[ 4.8202e-01,  9.2355e-01],\n",
       "        [-1.5656e+00,  7.8465e-01],\n",
       "        [-9.5455e-01,  9.4418e-01],\n",
       "        [ 1.7778e+00,  1.1652e+00],\n",
       "        [-3.3992e-01, -1.2334e-01],\n",
       "        [-5.0492e-01, -6.3566e-01],\n",
       "        [ 1.5564e-03,  8.3945e-01],\n",
       "        [ 2.4219e-01,  6.8536e-01],\n",
       "        [ 1.5816e+00, -5.6994e-01],\n",
       "        [ 4.6177e-01,  9.6429e-01],\n",
       "        [ 1.6196e+00, -5.8640e-01],\n",
       "        [-6.8853e-01, -9.2196e-01],\n",
       "        [-5.1552e-01,  3.8848e-01],\n",
       "        [-3.4202e-01,  1.2978e+00],\n",
       "        [ 5.1484e-01, -7.0059e-03],\n",
       "        [-1.7689e-01, -2.1734e+00],\n",
       "        [-2.2064e-01,  6.6515e-01],\n",
       "        [-9.7953e-01, -2.8153e-01],\n",
       "        [-1.6813e+00,  1.3182e+00],\n",
       "        [ 1.2544e+00,  1.4456e+00],\n",
       "        [-6.2267e-02,  9.5363e-02],\n",
       "        [ 1.6020e+00, -8.4862e-01],\n",
       "        [ 7.9960e-01,  4.7855e-01],\n",
       "        [ 7.8112e-01,  7.5517e-01],\n",
       "        [ 1.3904e+00,  1.3744e+00],\n",
       "        [-7.5878e-02,  1.7247e+00],\n",
       "        [ 2.4189e-01, -5.6747e-01],\n",
       "        [ 2.7691e-01, -3.8416e-01],\n",
       "        [ 1.8447e+00,  4.9027e-01],\n",
       "        [ 1.0600e+00,  1.0158e+00],\n",
       "        [ 9.1891e-01,  9.1784e-01],\n",
       "        [-1.8693e+00,  1.1869e+00]])"
      ]
     },
     "execution_count": 23,
     "metadata": {},
     "output_type": "execute_result"
    }
   ],
   "source": [
    "X\n"
   ]
  },
  {
   "cell_type": "markdown",
   "id": "954c3edc-623c-48c3-939b-039fae6d1adb",
   "metadata": {},
   "source": [
    "# 3.3.3. Implementação concisa do carregador de dados \n",
    "\n",
    "Embora a iteração implementada acima seja boa para fins didáticos, ela é ineficiente de maneiras que podem nos causar problemas reais. \n",
    "Por exemplo, requer que carreguemos todos os dados na memória e realizemos muitos acessos aleatórios à memória. Os iteradores integrados implementados em uma estrutura de aprendizado profundo são consideravelmente mais eficientes e podem lidar com fontes como dados armazenados em arquivos, dados recebidos por meio de um fluxo e dados gerados ou processados ​​dinamicamente. A seguir, vamos tentar implementar o mesmo método usando iteradores integrados.\n"
   ]
  },
  {
   "cell_type": "markdown",
   "id": "3a0ed313-e950-4954-ada2-4e3bb7d434af",
   "metadata": {},
   "source": [
    "__Em vez de escrever nosso próprio iterador, podemos chamar a API existente em uma estrutura para carregar dados__. Como antes, precisamos de um conjunto de dados com recursos X e rótulos y. "
   ]
  },
  {
   "cell_type": "code",
   "execution_count": 34,
   "id": "ee6544fc-032f-4c8f-a643-b2c12781ae5d",
   "metadata": {},
   "outputs": [],
   "source": [
    "@d2l.add_to_class(d2l.DataModule)  #@save\n",
    "def get_tensorloader(self, tensors, train, indices=slice(0, None)):\n",
    "    tensors = tuple(a[indices] for a in tensors)\n",
    "    dataset = torch.utils.data.TensorDataset(*tensors)\n",
    "    return torch.utils.data.DataLoader(dataset, self.batch_size, shuffle=train)   # https://pytorch.org/docs/stable/data.html\n",
    "    # return torch.utils.data.DataLoader(dataset, self.batch_size, shuffle=train, drop_last = True)   # https://pytorch.org/docs/stable/data.html\n",
    "\n",
    "@d2l.add_to_class(SyntheticRegressionData)  #@save\n",
    "def get_dataloader(self, train):\n",
    "    i = slice(0, self.num_train) if train else slice(self.num_train, None)\n",
    "    return self.get_tensorloader((self.X, self.y), train, i)"
   ]
  },
  {
   "cell_type": "markdown",
   "id": "4d9c065c-7d13-485c-bd9d-43be7cfb6e58",
   "metadata": {},
   "source": [
    "drop_last (bool, optional) – set to True to drop the last incomplete batch, if the dataset size is not divisible by the batch size. If False and the size of dataset is not divisible by the batch size, then the last batch will be smaller. (default: False)"
   ]
  },
  {
   "cell_type": "markdown",
   "id": "2184cdc6-2558-423d-ac1d-e436a4d00002",
   "metadata": {},
   "source": [
    "O novo carregador de dados se comporta exatamente como o anterior, exceto que é mais eficiente e possui algumas funcionalidades adicionais."
   ]
  },
  {
   "cell_type": "code",
   "execution_count": 35,
   "id": "d75518ac-75a5-4faf-afc9-05283bb715a7",
   "metadata": {},
   "outputs": [
    {
     "name": "stdout",
     "output_type": "stream",
     "text": [
      "X shape: torch.Size([32, 2]) \n",
      "y shape: torch.Size([32, 1])\n"
     ]
    }
   ],
   "source": [
    "X, y = next(iter(data.train_dataloader()))\n",
    "print('X shape:', X.shape, '\\ny shape:', y.shape)"
   ]
  },
  {
   "cell_type": "markdown",
   "id": "50995749-b02f-4710-b930-7ac600c889f5",
   "metadata": {},
   "source": [
    "Por exemplo, o carregador de dados fornecido pela API do framework suporta o método integrado \\__len\\___, para que possamos consultar seu comprimento, ou seja, o número de lotes."
   ]
  },
  {
   "cell_type": "code",
   "execution_count": 36,
   "id": "ac6b8356-4e7a-4430-93ce-d92896dddd0e",
   "metadata": {},
   "outputs": [
    {
     "data": {
      "text/plain": [
       "31"
      ]
     },
     "execution_count": 36,
     "metadata": {},
     "output_type": "execute_result"
    }
   ],
   "source": [
    "len(data.train_dataloader())"
   ]
  },
  {
   "cell_type": "markdown",
   "id": "a4d9b800-8bd8-481b-8172-acd936c66394",
   "metadata": {},
   "source": [
    "Os carregadores de dados são uma maneira conveniente de abstrair o processo de carregamento e manipulação de dados.\n",
    "\n",
    "__Uma das coisas boas dos carregadores de dados é que eles podem ser compostos.__ Por exemplo, podemos carregar imagens e então ter um filtro de pós-processamento que as recorta ou modifica de outras maneiras. \n",
    "\n"
   ]
  },
  {
   "cell_type": "markdown",
   "id": "248b85d4-753a-4bdd-8d58-907e88a3edd8",
   "metadata": {},
   "source": [
    "Quanto ao modelo em si, o modelo linear bidimensional é o mais simples que podemos encontrar. Permite-nos testar a precisão dos modelos de regressão sem nos preocuparmos com quantidades insuficientes de dados ou com um sistema de equações subdeterminado."
   ]
  },
  {
   "cell_type": "markdown",
   "id": "1989b057-ac61-474a-9d77-b9caf2b94e3a",
   "metadata": {},
   "source": [
    "# Exercícios"
   ]
  },
  {
   "cell_type": "code",
   "execution_count": 2,
   "id": "dea7e44c-2317-4d36-8f85-0a8af67b56f9",
   "metadata": {},
   "outputs": [
    {
     "ename": "SyntaxError",
     "evalue": "invalid syntax (2568116255.py, line 21)",
     "output_type": "error",
     "traceback": [
      "\u001b[1;36m  Cell \u001b[1;32mIn[2], line 21\u001b[1;36m\u001b[0m\n\u001b[1;33m    and test with\u001b[0m\n\u001b[1;37m    ^\u001b[0m\n\u001b[1;31mSyntaxError\u001b[0m\u001b[1;31m:\u001b[0m invalid syntax\n"
     ]
    }
   ],
   "source": [
    "# Ex. 1: What will happen if the number of examples cannot be divided by the batch size. \n",
    "# How would you change this behavior by specifying a different argument by using the framework’s API?\n",
    "\n",
    "# Answered by GpuTooExpensive:\n",
    "\n",
    "# I use ?torch.utils.data.DataLoader\n",
    "# then find parameter “drop_last”,\n",
    "# set it to true in the defination of function d2l.DataModule.get_tensorloader(), like:\n",
    "\n",
    "@d2l.add_to_class(d2l.DataModule)  #@save\n",
    "def get_tensorloader(self, tensors, train, indices=slice(0, None)):\n",
    "    tensors = tuple(a[indices] for a in tensors)\n",
    "    dataset = torch.utils.data.TensorDataset(*tensors)\n",
    "    return torch.utils.data.DataLoader(dataset, self.batch_size,\n",
    "                                       shuffle=train, drop_last = True)  # <---------------------------------\n",
    "    \n",
    "@d2l.add_to_class(SyntheticRegressionData)  #@save\n",
    "def get_dataloader(self, train):\n",
    "    i = slice(0, self.num_train) if train else slice(self.num_train, None)\n",
    "    return self.get_tensorloader((self.X, self.y), train, i)\n",
    "and test with\n",
    "\n",
    "len(data.train_dataloader())\n",
    "the result changed from 32 to 31"
   ]
  },
  {
   "cell_type": "markdown",
   "id": "276791f9-d11d-4a1a-ae98-0cf75f6e6347",
   "metadata": {},
   "source": [
    "# Exercício 4:"
   ]
  },
  {
   "cell_type": "code",
   "execution_count": 43,
   "id": "2135e079-2607-4ea7-a1fe-422d4564d850",
   "metadata": {},
   "outputs": [
    {
     "name": "stdout",
     "output_type": "stream",
     "text": [
      "features: tensor([0., 1.]) \n",
      "label: tensor([0.8041])\n"
     ]
    }
   ],
   "source": [
    "%matplotlib inline\n",
    "import random\n",
    "import torch\n",
    "from d2l import torch as d2l\n",
    "\n",
    "x1 = torch.arange(40, dtype=torch.float32).reshape(20,2)\n",
    "noise=0.01\n",
    "noise1 = torch.randn(20, 1) * noise  # vetor noise (2000x1) com elementos aleatórios\n",
    " \n",
    "\n",
    "class SyntheticRegressionData(d2l.DataModule):  #@save\n",
    "    \"\"\"Synthetic data for linear regression.\"\"\"\n",
    "\n",
    "    def __init__(self, w, b, noise=0.01, num_train=10, num_val=10, batch_size=5):            # batch=lotes de tamanho 32\n",
    "        super().__init__()                  # A função super() encaminha os parâmetros da classe filha para a classe mãe.\n",
    "        self.save_hyperparameters()\n",
    "        n = num_train + num_val             # n = n_treinamento + n_validação = 1000 + 1000 = 2000\n",
    "        # self.X = torch.randn(n, len(w))     # matriz X (2000x2) com elementos aleatórios\n",
    "        # self.X = torch.arange(40, dtype=torch.float32).reshape(20,2)\n",
    "        # self.X = torch.randn(20, 2)\n",
    "        self.X = x1\n",
    "        noise = noise1   # vetor noise (2000x1) com elementos aleatórios\n",
    "        self.y = torch.matmul(self.X, w.reshape((-1, 1))) + b + noise\n",
    "\n",
    "# ------------------\n",
    "\n",
    "data = SyntheticRegressionData(w=torch.tensor([2, -3.4]), b=4.2)\n",
    "print('features:', data.X[0],'\\nlabel:', data.y[0])\n"
   ]
  },
  {
   "cell_type": "code",
   "execution_count": 44,
   "id": "384843b6-77c9-40e6-9104-569455e87fb6",
   "metadata": {},
   "outputs": [
    {
     "name": "stdout",
     "output_type": "stream",
     "text": [
      "features: tensor([0., 1.]) \n",
      "label: tensor([0.8041])\n"
     ]
    }
   ],
   "source": [
    "data = SyntheticRegressionData(w=torch.tensor([2, -3.4]), b=4.2)\n",
    "print('features:', data.X[0],'\\nlabel:', data.y[0])"
   ]
  },
  {
   "cell_type": "code",
   "execution_count": null,
   "id": "e9f5b2f9-6fcd-448a-bded-cfbd8b1f41de",
   "metadata": {},
   "outputs": [],
   "source": []
  }
 ],
 "metadata": {
  "kernelspec": {
   "display_name": "Python 3 (ipykernel)",
   "language": "python",
   "name": "python3"
  },
  "language_info": {
   "codemirror_mode": {
    "name": "ipython",
    "version": 3
   },
   "file_extension": ".py",
   "mimetype": "text/x-python",
   "name": "python",
   "nbconvert_exporter": "python",
   "pygments_lexer": "ipython3",
   "version": "3.11.9"
  }
 },
 "nbformat": 4,
 "nbformat_minor": 5
}
