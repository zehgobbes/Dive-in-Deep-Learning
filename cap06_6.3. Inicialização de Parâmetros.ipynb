{
 "cells": [
  {
   "cell_type": "markdown",
   "id": "c5d1c583-de42-4f9b-8484-de5d8a7e10ef",
   "metadata": {},
   "source": [
    "# 6.3. Inicialização de Parâmetros\n",
    "\n",
    "O framework de aprendizado profundo fornece inicializações aleatórias padrão para suas camadas. No entanto, geralmente queremos inicializar nossos pesos de acordo com vários outros protocolos. O framework fornece os protocolos mais comumente usados ​​e também permite criar um inicializador personalizado."
   ]
  },
  {
   "cell_type": "code",
   "execution_count": 1,
   "id": "40936fa1-ecd6-4344-a01d-5878a52f0b4d",
   "metadata": {},
   "outputs": [],
   "source": [
    "import torch\n",
    "from torch import nn"
   ]
  },
  {
   "cell_type": "code",
   "execution_count": 2,
   "id": "577fc70c-791d-460f-bd9a-d0ec18a1c987",
   "metadata": {},
   "outputs": [
    {
     "name": "stderr",
     "output_type": "stream",
     "text": [
      "C:\\Users\\zeh\\pythonProject\\.venv\\Lib\\site-packages\\torch\\nn\\modules\\lazy.py:181: UserWarning: Lazy modules are a new feature under heavy development so changes to the API or functionality can happen at any moment.\n",
      "  warnings.warn('Lazy modules are a new feature under heavy development '\n"
     ]
    },
    {
     "data": {
      "text/plain": [
       "torch.Size([2, 1])"
      ]
     },
     "execution_count": 2,
     "metadata": {},
     "output_type": "execute_result"
    }
   ],
   "source": [
    "net = nn.Sequential(nn.LazyLinear(8), nn.ReLU(), nn.LazyLinear(1))\n",
    "X = torch.rand(size=(2, 4))\n",
    "net(X).shape"
   ]
  },
  {
   "cell_type": "code",
   "execution_count": 3,
   "id": "40f43761-11e8-4a6d-b751-ee86a0f52a88",
   "metadata": {},
   "outputs": [
    {
     "data": {
      "text/plain": [
       "Sequential(\n",
       "  (0): Linear(in_features=4, out_features=8, bias=True)\n",
       "  (1): ReLU()\n",
       "  (2): Linear(in_features=8, out_features=1, bias=True)\n",
       ")"
      ]
     },
     "execution_count": 3,
     "metadata": {},
     "output_type": "execute_result"
    }
   ],
   "source": [
    "net"
   ]
  },
  {
   "cell_type": "code",
   "execution_count": 6,
   "id": "a170c82c-c1b1-42e6-bb00-89e03be5337e",
   "metadata": {},
   "outputs": [
    {
     "data": {
      "text/plain": [
       "tensor([[0.0001],\n",
       "        [0.0003]], grad_fn=<AddmmBackward0>)"
      ]
     },
     "execution_count": 6,
     "metadata": {},
     "output_type": "execute_result"
    }
   ],
   "source": [
    "net(X)                                      # saída y"
   ]
  },
  {
   "cell_type": "code",
   "execution_count": 4,
   "id": "4770025a-450e-45f9-89e6-b5d25e112d8e",
   "metadata": {},
   "outputs": [
    {
     "data": {
      "text/plain": [
       "[('0.weight', torch.Size([8, 4])),\n",
       " ('0.bias', torch.Size([8])),\n",
       " ('2.weight', torch.Size([1, 8])),\n",
       " ('2.bias', torch.Size([1]))]"
      ]
     },
     "execution_count": 4,
     "metadata": {},
     "output_type": "execute_result"
    }
   ],
   "source": [
    "[(name, param.shape) for name, param in net.named_parameters()]"
   ]
  },
  {
   "cell_type": "markdown",
   "id": "6f7bcec8-2fec-4c7f-b13a-54e8d5ed7931",
   "metadata": {},
   "source": [
    "# 6.3.1. Inicialização Integrada\n",
    "\n",
    "Vamos começar chamando inicializadores internos. O código abaixo inicializa todos os parâmetros de peso como variáveis ​​aleatórias gaussianas com desvio padrão de 0,01, enquanto os parâmetros de viés são zerados."
   ]
  },
  {
   "cell_type": "code",
   "execution_count": 16,
   "id": "6427890d-c2c1-4e76-8f4f-0d011dc328ee",
   "metadata": {},
   "outputs": [
    {
     "data": {
      "text/plain": [
       "(tensor([-0.0132, -0.0226, -0.0101,  0.0024]), tensor(0.))"
      ]
     },
     "execution_count": 16,
     "metadata": {},
     "output_type": "execute_result"
    }
   ],
   "source": [
    "def init_normal(module): # Em module.py:     def apply(self: T, fn: Callable[['Module'], None]) -> T:\n",
    "    if type(module) == nn.Linear:\n",
    "        nn.init.normal_(module.weight, mean=0, std=0.01)  # inicialização de w com distribuição normal, com média=0 e devio padrão=0.01\n",
    "        nn.init.zeros_(module.bias)                       # inicialização de b com zeros.  \n",
    "\n",
    "net.apply(init_normal)                                    # aplica a inicialização criada na função init_normal.\n",
    "net[0].weight.data[0], net[0].bias.data[0]"
   ]
  },
  {
   "cell_type": "code",
   "execution_count": 17,
   "id": "9524f1a2-ea7d-4b8f-96c7-35b236580eaf",
   "metadata": {},
   "outputs": [
    {
     "data": {
      "text/plain": [
       "Parameter containing:\n",
       "tensor([[-0.0132, -0.0226, -0.0101,  0.0024],\n",
       "        [-0.0102, -0.0183,  0.0017, -0.0248],\n",
       "        [ 0.0079,  0.0173,  0.0188,  0.0099],\n",
       "        [ 0.0121,  0.0069, -0.0072,  0.0014],\n",
       "        [-0.0184,  0.0021,  0.0177, -0.0116],\n",
       "        [ 0.0068,  0.0026, -0.0015, -0.0141],\n",
       "        [ 0.0091, -0.0126, -0.0190,  0.0035],\n",
       "        [ 0.0074,  0.0056,  0.0010, -0.0081]], requires_grad=True)"
      ]
     },
     "execution_count": 17,
     "metadata": {},
     "output_type": "execute_result"
    }
   ],
   "source": [
    "net[0].weight"
   ]
  },
  {
   "cell_type": "code",
   "execution_count": 18,
   "id": "2a60fef8-e4e4-4ec4-88d7-804474ff72f3",
   "metadata": {},
   "outputs": [
    {
     "data": {
      "text/plain": [
       "Parameter containing:\n",
       "tensor([0., 0., 0., 0., 0., 0., 0., 0.], requires_grad=True)"
      ]
     },
     "execution_count": 18,
     "metadata": {},
     "output_type": "execute_result"
    }
   ],
   "source": [
    "net[0].bias"
   ]
  },
  {
   "cell_type": "markdown",
   "id": "b90b8d67-08e4-49ed-88b6-03c964baa054",
   "metadata": {},
   "source": [
    "------------------------------------------------"
   ]
  },
  {
   "cell_type": "markdown",
   "id": "a232810f-63a2-4b95-bf67-fa1f85886216",
   "metadata": {},
   "source": [
    "Também podemos inicializar todos os parâmetros para um determinado valor constante (digamos, 1)."
   ]
  },
  {
   "cell_type": "code",
   "execution_count": 19,
   "id": "659237b1-8607-42bc-99f3-c564f5d8906a",
   "metadata": {},
   "outputs": [
    {
     "data": {
      "text/plain": [
       "(tensor([1., 1., 1., 1.]), tensor(0.))"
      ]
     },
     "execution_count": 19,
     "metadata": {},
     "output_type": "execute_result"
    }
   ],
   "source": [
    "def init_constant(module):\n",
    "    if type(module) == nn.Linear:\n",
    "        nn.init.constant_(module.weight, 1)  # inicialização de w com 1.\n",
    "        nn.init.zeros_(module.bias)          # inicialização de b com zeros.\n",
    "\n",
    "net.apply(init_constant)                     # aplica a inicialização criada na função init_constant.\n",
    "net[0].weight.data[0], net[0].bias.data[0]"
   ]
  },
  {
   "cell_type": "code",
   "execution_count": 20,
   "id": "0919de32-aea9-4768-9978-3d5d9c31a38a",
   "metadata": {},
   "outputs": [
    {
     "data": {
      "text/plain": [
       "Parameter containing:\n",
       "tensor([[1., 1., 1., 1.],\n",
       "        [1., 1., 1., 1.],\n",
       "        [1., 1., 1., 1.],\n",
       "        [1., 1., 1., 1.],\n",
       "        [1., 1., 1., 1.],\n",
       "        [1., 1., 1., 1.],\n",
       "        [1., 1., 1., 1.],\n",
       "        [1., 1., 1., 1.]], requires_grad=True)"
      ]
     },
     "execution_count": 20,
     "metadata": {},
     "output_type": "execute_result"
    }
   ],
   "source": [
    "net[0].weight"
   ]
  },
  {
   "cell_type": "code",
   "execution_count": 21,
   "id": "c144355a-770e-41b3-b8d0-1cb7f7a27f66",
   "metadata": {},
   "outputs": [
    {
     "data": {
      "text/plain": [
       "Parameter containing:\n",
       "tensor([[1., 1., 1., 1., 1., 1., 1., 1.]], requires_grad=True)"
      ]
     },
     "execution_count": 21,
     "metadata": {},
     "output_type": "execute_result"
    }
   ],
   "source": [
    "net[2].weight"
   ]
  },
  {
   "cell_type": "code",
   "execution_count": 22,
   "id": "0afbe07d-52a4-4140-9e82-35fecb1e2ec9",
   "metadata": {},
   "outputs": [
    {
     "data": {
      "text/plain": [
       "Parameter containing:\n",
       "tensor([0., 0., 0., 0., 0., 0., 0., 0.], requires_grad=True)"
      ]
     },
     "execution_count": 22,
     "metadata": {},
     "output_type": "execute_result"
    }
   ],
   "source": [
    "net[0].bias"
   ]
  },
  {
   "cell_type": "code",
   "execution_count": 23,
   "id": "6c48500c-c570-4ee1-8827-92bc1fcacadc",
   "metadata": {},
   "outputs": [
    {
     "data": {
      "text/plain": [
       "Parameter containing:\n",
       "tensor([0.], requires_grad=True)"
      ]
     },
     "execution_count": 23,
     "metadata": {},
     "output_type": "execute_result"
    }
   ],
   "source": [
    "net[2].bias"
   ]
  },
  {
   "cell_type": "markdown",
   "id": "a208e4d4-3170-4546-b2a2-8457b5c9b471",
   "metadata": {},
   "source": [
    "---------------------------------------"
   ]
  },
  {
   "cell_type": "markdown",
   "id": "eeb34616-3d59-4e88-b834-25e1f6d84f48",
   "metadata": {},
   "source": [
    "Também podemos aplicar inicializadores diferentes para certos blocos. Por exemplo, abaixo inicializamos a primeira camada com o inicializador Xavier e inicializamos a segunda camada para um valor constante de 42."
   ]
  },
  {
   "cell_type": "code",
   "execution_count": 29,
   "id": "aebe68be-19ea-4bdc-8819-894d24eaa389",
   "metadata": {},
   "outputs": [
    {
     "name": "stdout",
     "output_type": "stream",
     "text": [
      "tensor([ 0.3519, -0.0678,  0.3684, -0.6234])\n",
      "tensor([[42., 42., 42., 42., 42., 42., 42., 42.]])\n"
     ]
    }
   ],
   "source": [
    "def init_xavier(module):\n",
    "    if type(module) == nn.Linear:\n",
    "        nn.init.xavier_uniform_(module.weight)\n",
    "# Existem dois tipos de inicialização xavier:\n",
    "# xavier_uniform \n",
    "# xavier_normal \n",
    "\n",
    "\n",
    "def init_42(module):\n",
    "    if type(module) == nn.Linear:\n",
    "        nn.init.constant_(module.weight, 42)\n",
    "\n",
    "net[0].apply(init_xavier)                       # aplica a inicialização criada na função init_xavier na camada 0 de net.\n",
    "net[2].apply(init_42)                           # aplica a inicialização criada na função init_42 na camada 2 de net.\n",
    "print(net[0].weight.data[0])\n",
    "print(net[2].weight.data)"
   ]
  },
  {
   "cell_type": "code",
   "execution_count": 28,
   "id": "813eac30-43ed-4c17-af22-15f3dc5bbb53",
   "metadata": {},
   "outputs": [],
   "source": [
    "# Inicializadores:\n",
    "\n",
    "# uniform = _make_deprecate(uniform_)\n",
    "# normal = _make_deprecate(normal_)\n",
    "# constant = _make_deprecate(constant_)\n",
    "# eye = _make_deprecate(eye_)\n",
    "# dirac = _make_deprecate(dirac_)\n",
    "# xavier_uniform = _make_deprecate(xavier_uniform_)\n",
    "# xavier_normal = _make_deprecate(xavier_normal_)\n",
    "# kaiming_uniform = _make_deprecate(kaiming_uniform_)\n",
    "# kaiming_normal = _make_deprecate(kaiming_normal_)\n",
    "# orthogonal = _make_deprecate(orthogonal_)\n",
    "# sparse = _make_deprecate(sparse_)"
   ]
  },
  {
   "cell_type": "markdown",
   "id": "1f01c47b-5de9-4b89-99bd-a8c3d289f010",
   "metadata": {},
   "source": [
    "--------------------------------------------------"
   ]
  },
  {
   "attachments": {
    "634cc3c6-d747-4ee1-be37-702f72822b1b.png": {
     "image/png": "[encoded data removed]"
    }
   },
   "cell_type": "markdown",
   "id": "011c4c0f-8433-429a-8e29-17d33afb594a",
   "metadata": {},
   "source": [
    "# 6.3.1.1. Inicialização personalizada\n",
    "\n",
    "Às vezes, os métodos de inicialização que precisamos não são fornecidos pelo framework de aprendizado profundo. No exemplo abaixo, definimos um inicializador para qualquer parâmetro de peso usando a seguinte distribuição estranha:\n",
    "\n",
    "![image.png](attachment:634cc3c6-d747-4ee1-be37-702f72822b1b.png)"
   ]
  },
  {
   "cell_type": "code",
   "execution_count": 34,
   "id": "7cb11ac5-86f1-43fd-b224-0f952db06dae",
   "metadata": {},
   "outputs": [
    {
     "data": {
      "text/plain": [
       "('0.weight', torch.Size([8, 4]))"
      ]
     },
     "execution_count": 34,
     "metadata": {},
     "output_type": "execute_result"
    }
   ],
   "source": [
    "[(name, param.shape) for name, param in net.named_parameters()][0]"
   ]
  },
  {
   "cell_type": "code",
   "execution_count": 41,
   "id": "a34ccc06-6c14-49af-893f-07e035372062",
   "metadata": {},
   "outputs": [
    {
     "data": {
      "text/plain": [
       "[('0.weight', torch.Size([8, 4])),\n",
       " ('0.bias', torch.Size([8])),\n",
       " ('2.weight', torch.Size([1, 8])),\n",
       " ('2.bias', torch.Size([1]))]"
      ]
     },
     "execution_count": 41,
     "metadata": {},
     "output_type": "execute_result"
    }
   ],
   "source": [
    "[(name, param.shape) for name, param in net.named_parameters()]"
   ]
  },
  {
   "cell_type": "code",
   "execution_count": 39,
   "id": "c04375a0-e705-4de9-b0f4-4451eb2b54aa",
   "metadata": {},
   "outputs": [
    {
     "name": "stdout",
     "output_type": "stream",
     "text": [
      "Init 0.weight torch.Size([8, 4])\n"
     ]
    }
   ],
   "source": [
    "print(\"Init\", *[(name, param.shape)\n",
    "                        for name, param in net.named_parameters()][0])"
   ]
  },
  {
   "cell_type": "code",
   "execution_count": 42,
   "id": "39c6351d-846d-4991-ad3f-3fd4a25ccf61",
   "metadata": {},
   "outputs": [
    {
     "name": "stdout",
     "output_type": "stream",
     "text": [
      "Init weight torch.Size([8, 4])\n",
      "Init weight torch.Size([1, 8])\n"
     ]
    },
    {
     "data": {
      "text/plain": [
       "tensor([[-0.0000, -0.0000,  8.6149,  9.0749],\n",
       "        [-7.2819, -0.0000, -5.4839,  9.4762]], grad_fn=<SliceBackward0>)"
      ]
     },
     "execution_count": 42,
     "metadata": {},
     "output_type": "execute_result"
    }
   ],
   "source": [
    "def my_init(module):\n",
    "    if type(module) == nn.Linear:\n",
    "        print(\"Init\", *[(name, param.shape)\n",
    "                        for name, param in module.named_parameters()][0])\n",
    "        nn.init.uniform_(module.weight, -10, 10)\n",
    "        module.weight.data *= module.weight.data.abs() >= 5\n",
    "\n",
    "net.apply(my_init)\n",
    "net[0].weight[:2]"
   ]
  },
  {
   "cell_type": "markdown",
   "id": "bd2d2b22-5ea2-445d-821e-f78247cb9fad",
   "metadata": {},
   "source": [
    "Observe que sempre temos a opção de definir parâmetros diretamente."
   ]
  },
  {
   "cell_type": "code",
   "execution_count": 43,
   "id": "461fbbc6-834c-424b-9884-245e9c98ba77",
   "metadata": {},
   "outputs": [
    {
     "data": {
      "text/plain": [
       "tensor([42.0000,  1.0000,  9.6149, 10.0749])"
      ]
     },
     "execution_count": 43,
     "metadata": {},
     "output_type": "execute_result"
    }
   ],
   "source": [
    "net[0].weight.data[:] += 1\n",
    "net[0].weight.data[0, 0] = 42\n",
    "net[0].weight.data[0]"
   ]
  },
  {
   "cell_type": "markdown",
   "id": "7c1e6dbe-eb0e-4d4f-9482-0b210020bf91",
   "metadata": {},
   "source": [
    "# 6.3.3. Exercícios\n",
    "\n",
    "# Consulte a documentação on-line para obter mais inicializadores integrados."
   ]
  },
  {
   "cell_type": "code",
   "execution_count": null,
   "id": "7888ca9e-67bd-4614-8d19-9e82f968adc9",
   "metadata": {},
   "outputs": [],
   "source": [
    "# Inicializadores:\n",
    "\n",
    "# uniform = _make_deprecate(uniform_)\n",
    "# normal = _make_deprecate(normal_)\n",
    "# constant = _make_deprecate(constant_)\n",
    "# eye = _make_deprecate(eye_)\n",
    "# dirac = _make_deprecate(dirac_)\n",
    "# xavier_uniform = _make_deprecate(xavier_uniform_)\n",
    "# xavier_normal = _make_deprecate(xavier_normal_)\n",
    "# kaiming_uniform = _make_deprecate(kaiming_uniform_)\n",
    "# kaiming_normal = _make_deprecate(kaiming_normal_)\n",
    "# orthogonal = _make_deprecate(orthogonal_)\n",
    "# sparse = _make_deprecate(sparse_)"
   ]
  }
 ],
 "metadata": {
  "kernelspec": {
   "display_name": "Python 3 (ipykernel)",
   "language": "python",
   "name": "python3"
  },
  "language_info": {
   "codemirror_mode": {
    "name": "ipython",
    "version": 3
   },
   "file_extension": ".py",
   "mimetype": "text/x-python",
   "name": "python",
   "nbconvert_exporter": "python",
   "pygments_lexer": "ipython3",
   "version": "3.11.9"
  }
 },
 "nbformat": 4,
 "nbformat_minor": 5
}
