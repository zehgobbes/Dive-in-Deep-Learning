{
 "cells": [
  {
   "cell_type": "markdown",
   "id": "c045f5da-6792-491a-b90d-38b04b4dd398",
   "metadata": {},
   "source": [
    "# 6.5. Camadas personalizadas"
   ]
  },
  {
   "cell_type": "markdown",
   "id": "c105181f-9cfe-4433-a967-77deb70ce408",
   "metadata": {},
   "source": [
    "Um fator por trás do sucesso do aprendizado profundo é a disponibilidade de uma ampla gama de camadas que podem ser compostas de maneiras criativas para projetar arquiteturas adequadas para uma ampla variedade de tarefas. \n",
    "\n",
    "Por exemplo, pesquisadores inventaram camadas especificamente para lidar com:\n",
    "- imagens,\n",
    "- texto,\n",
    "- looping sobre dados sequenciais e\n",
    "- execução de programação dinâmica. \n",
    "\n",
    "Mais cedo ou mais tarde, você precisará de uma camada que ainda não existe na estrutura de aprendizado profundo. Nesses casos, você deve construir uma camada personalizada. Nesta seção, mostramos como."
   ]
  },
  {
   "cell_type": "code",
   "execution_count": 1,
   "id": "20061271-1b59-4df3-af41-a411e8410253",
   "metadata": {},
   "outputs": [],
   "source": [
    "import torch\n",
    "from torch import nn\n",
    "from torch.nn import functional as F\n",
    "from d2l import torch as d2l"
   ]
  },
  {
   "cell_type": "markdown",
   "id": "6ff9e380-dde5-4e95-918a-4886a63fbaee",
   "metadata": {},
   "source": [
    "# 6.5.1. Camadas sem Parâmetros"
   ]
  },
  {
   "cell_type": "markdown",
   "id": "b78e4ca2-4312-49a0-be98-a155f1a48009",
   "metadata": {},
   "source": [
    "Para começar, construímos uma camada personalizada que não tem nenhum parâmetro .\n",
    "\n",
    "A classe CenteredLayer  a seguir simplesmente subtrai a média de sua entrada. \n",
    "\n",
    "Para construí-la, precisamos simplesmente herdar a classe da camada base e implementar a função de propagação para frente."
   ]
  },
  {
   "cell_type": "code",
   "execution_count": 2,
   "id": "1a5269cd-4686-41f6-9bbc-be8c79dd1914",
   "metadata": {},
   "outputs": [],
   "source": [
    "class CenteredLayer(nn.Module):    # herdar a classe da camada base (nn.Module).\n",
    "    def __init__(self):            # camada sem argumentos de entrada.\n",
    "        super().__init__()         # chama o método construtor (__init__()) da camada base (nn.Module).\n",
    "\n",
    "    def forward(self, X):          # implementa a função de propagação para frente (forward).\n",
    "        return X - X.mean()        # subtrai a média da entrada."
   ]
  },
  {
   "cell_type": "code",
   "execution_count": null,
   "id": "cc97356e-5a59-4c73-9f32-86a269688993",
   "metadata": {},
   "outputs": [],
   "source": [
    "class CenteredLayer(nn.Module):    # padrão.\n",
    "    def __init__(self):            # padrão.\n",
    "        super().__init__()         # padrão.\n",
    "    \n",
    "    def forward(self, X):          # padrão.\n",
    "        return X - X.mean()        # Definições da classe. Ajustável conforme a necessidade."
   ]
  },
  {
   "cell_type": "markdown",
   "id": "b29f3a8e-6953-4d73-afaa-fe4cc74a7218",
   "metadata": {},
   "source": [
    "Vamos verificar se nossa camada funciona conforme o esperado, alimentando alguns dados por meio dela."
   ]
  },
  {
   "cell_type": "code",
   "execution_count": 3,
   "id": "51ab99c4-aa69-4d7c-a507-995809992851",
   "metadata": {},
   "outputs": [
    {
     "data": {
      "text/plain": [
       "tensor([-2., -1.,  0.,  1.,  2.])"
      ]
     },
     "execution_count": 3,
     "metadata": {},
     "output_type": "execute_result"
    }
   ],
   "source": [
    "# CenteredLayer(torch.tensor([1.0, 2, 3, 4, 5]))  # TypeError: CenteredLayer.__init__() takes 1 positional argument but 2 were given\n",
    "# CenteredLayer só possui um argumento (sself), portanto, não pode receber argumentos.\n",
    "\n",
    "layer = CenteredLayer()                  # cria-se o objeto layer, sem argumentos de entrada.\n",
    "layer(torch.tensor([1.0, 2, 3, 4, 5]))   # agora layer pode receber argumentos, pois estes são do método construtor de nn.Module e não de CenteredLayer.\n",
    "# class Module:    def __init__(self, *args, **kwargs) -> None:   ; portanto, pode receber argumentos."
   ]
  },
  {
   "cell_type": "markdown",
   "id": "11de4428-9794-49d4-bd46-6705a5cea6e1",
   "metadata": {},
   "source": [
    "Agora podemos incorporar nossa camada como um componente na construção de modelos mais complexos."
   ]
  },
  {
   "cell_type": "code",
   "execution_count": 6,
   "id": "fc5f5c98-47c4-42ff-8c34-128fb5cd59a2",
   "metadata": {},
   "outputs": [
    {
     "name": "stderr",
     "output_type": "stream",
     "text": [
      "C:\\Users\\zeh\\pythonProject\\.venv\\Lib\\site-packages\\torch\\nn\\modules\\lazy.py:181: UserWarning: Lazy modules are a new feature under heavy development so changes to the API or functionality can happen at any moment.\n",
      "  warnings.warn('Lazy modules are a new feature under heavy development '\n"
     ]
    }
   ],
   "source": [
    "net = nn.Sequential(nn.LazyLinear(128), CenteredLayer())"
   ]
  },
  {
   "cell_type": "code",
   "execution_count": 7,
   "id": "37047de7-fd13-4a3b-bf39-d1d1eb42ed19",
   "metadata": {},
   "outputs": [
    {
     "data": {
      "text/plain": [
       "Sequential(\n",
       "  (0): LazyLinear(in_features=0, out_features=128, bias=True)\n",
       "  (1): CenteredLayer()\n",
       ")"
      ]
     },
     "execution_count": 7,
     "metadata": {},
     "output_type": "execute_result"
    }
   ],
   "source": [
    "net"
   ]
  },
  {
   "cell_type": "markdown",
   "id": "a6bf090e-4105-4f5b-93d0-4cd65927f545",
   "metadata": {},
   "source": [
    "Como uma verificação extra, podemos enviar dados aleatórios pela rede e verificar se a média é de fato 0. \n",
    "\n",
    "Como estamos lidando com números de ponto flutuante, ainda podemos ver um número muito pequeno diferente de zero devido à quantização."
   ]
  },
  {
   "cell_type": "code",
   "execution_count": 10,
   "id": "d9d1e7ff-77f9-4ff8-bb13-05a7b77d4618",
   "metadata": {},
   "outputs": [
    {
     "data": {
      "text/plain": [
       "tensor(-1.8626e-09, grad_fn=<MeanBackward0>)"
      ]
     },
     "execution_count": 10,
     "metadata": {},
     "output_type": "execute_result"
    }
   ],
   "source": [
    "Y = net(torch.rand(4, 8))\n",
    "Y.mean()"
   ]
  },
  {
   "cell_type": "markdown",
   "id": "5619b530-2bb0-4963-8fc9-767527dc7a13",
   "metadata": {},
   "source": [
    "# 6.5.2. Camadas com Parâmetros\n",
    "\n",
    "Agora que sabemos como definir camadas simples, vamos prosseguir para definir camadas com parâmetros que podem ser ajustados por meio de treinamento.\n",
    "\n",
    "Podemos usar funções internas para criar parâmetros, que fornecem alguma funcionalidade básica de manutenção. \n",
    "\n",
    "Em particular, eles governam o acesso, a inicialização, o compartilhamento, o salvamento e o carregamento de parâmetros do modelo. \n",
    "\n",
    "Desta forma, entre outros benefícios, não precisaremos escrever rotinas de serialização personalizadas para cada camada personalizada.\n",
    "\n",
    "Agora, vamos implementar nossa própria versão da camada totalmente conectada. Lembre-se de que essa camada requer dois parâmetros, um para representar o peso e o outro para o viés. \n",
    "\n",
    "Nessa implementação, utilizamos a ativação ReLU como padrão."
   ]
  },
  {
   "cell_type": "code",
   "execution_count": 11,
   "id": "9e289c4f-556d-47d7-936e-1ccd95dedde6",
   "metadata": {},
   "outputs": [],
   "source": [
    "class MyLinear(nn.Module):\n",
    "    def __init__(self, in_units, units): # argumentos de entrada: in_units e units, que denotam o número de entradas e saídas, respectivamente.\n",
    "        super().__init__()               # chama o método construtor (__init__()) da camada base (nn.Module).\n",
    "        self.weight = nn.Parameter(torch.randn(in_units, units))  # peso w\n",
    "        self.bias = nn.Parameter(torch.randn(units,))             # bias b\n",
    "\n",
    "    def forward(self, X):\n",
    "        linear = torch.matmul(X, self.weight.data) + self.bias.data # linear = X*w + b\n",
    "        return F.relu(linear)                                       # função de ativação ReLU. Normalmente é realizado na classe específica nn.ReLU(). "
   ]
  },
  {
   "cell_type": "markdown",
   "id": "f09b2db9-23fe-4f68-818f-6f777a58c028",
   "metadata": {},
   "source": [
    "Em seguida, instanciamos a classe MyLinear e acessamos seus parâmetros de modelo."
   ]
  },
  {
   "cell_type": "code",
   "execution_count": 12,
   "id": "8fba4641-6a89-4773-b36d-1ee3f79a379e",
   "metadata": {},
   "outputs": [
    {
     "data": {
      "text/plain": [
       "Parameter containing:\n",
       "tensor([[ 2.5597,  2.3036, -1.0389],\n",
       "        [-0.8901,  1.1242, -0.7201],\n",
       "        [ 2.0199, -1.3084,  0.6945],\n",
       "        [ 1.3497,  0.8125,  0.5707],\n",
       "        [-0.3388,  0.9355, -0.6992]], requires_grad=True)"
      ]
     },
     "execution_count": 12,
     "metadata": {},
     "output_type": "execute_result"
    }
   ],
   "source": [
    "linear = MyLinear(5, 3)  # Agora, a classe deve receber parâmetros de entrada: in=5 e out=3.\n",
    "linear.weight"
   ]
  },
  {
   "cell_type": "markdown",
   "id": "04a1439e-0cf7-4fa8-898b-970bcea49114",
   "metadata": {},
   "source": [
    "Podemos realizar cálculos de propagação direta usando camadas personalizadas."
   ]
  },
  {
   "cell_type": "code",
   "execution_count": 13,
   "id": "9b1b0f46-69a3-4e41-bd48-663b8a1c6241",
   "metadata": {},
   "outputs": [
    {
     "data": {
      "text/plain": [
       "tensor([[3.6352, 3.6293, 0.0000],\n",
       "        [2.0814, 2.8069, 0.0000]])"
      ]
     },
     "execution_count": 13,
     "metadata": {},
     "output_type": "execute_result"
    }
   ],
   "source": [
    "linear(torch.rand(2, 5))"
   ]
  },
  {
   "cell_type": "markdown",
   "id": "c4dca6a7-b02e-4862-b019-605caa719ef9",
   "metadata": {},
   "source": [
    "Também podemos construir modelos usando camadas personalizadas. Uma vez que temos isso, podemos usá-lo como a camada totalmente conectada incorporada."
   ]
  },
  {
   "cell_type": "code",
   "execution_count": 15,
   "id": "305451d7-f912-4273-9e8e-27afa28c500f",
   "metadata": {},
   "outputs": [
    {
     "data": {
      "text/plain": [
       "tensor([[0.0000],\n",
       "        [3.1005]])"
      ]
     },
     "execution_count": 15,
     "metadata": {},
     "output_type": "execute_result"
    }
   ],
   "source": [
    "net = nn.Sequential(MyLinear(64, 8), \n",
    "                    MyLinear(8, 1))      # perceba que nn.ReLU() não foi utilizado, pois a mesma já se encontra incorporada na camada personalizada. \n",
    "                                                \n",
    "net(torch.rand(2, 64))\n",
    "\n",
    "# Utilizando as camadas padrões, a função de ativação encontra-se fora da camada Linear\n",
    "# net = nn.Sequential(nn.Linear(64,8),\n",
    "#                     nn.ReLU(),\n",
    "#                     nn.Linear(8,1))          # Camada compatível seria:  nn.Linear(256,10) \n",
    "                    "
   ]
  },
  {
   "cell_type": "markdown",
   "id": "91920222-5df0-4376-80d3-21c0c8be318c",
   "metadata": {},
   "source": [
    "# 6.5.4. Exercícios"
   ]
  },
  {
   "attachments": {
    "59b2f7c4-b425-489c-8f47-b1e2f9291c6d.png": {
     "image/png": "[encoded data removed]"
    }
   },
   "cell_type": "markdown",
   "id": "ab0bd037-f4ac-4431-ba14-8f6ced9c2340",
   "metadata": {},
   "source": [
    "# Ex. 1 - Projete uma camada que receba uma entrada e calcule uma redução de tensor, ou seja, ela retorna:\n",
    "\n",
    "![image.png](attachment:59b2f7c4-b425-489c-8f47-b1e2f9291c6d.png)"
   ]
  },
  {
   "cell_type": "code",
   "execution_count": 17,
   "id": "5958dce3-2bc5-421f-bb52-46dab3896d67",
   "metadata": {},
   "outputs": [],
   "source": [
    "import torch\n",
    "from torch import nn\n",
    "from d2l import torch as d2l\n",
    "\n",
    "\n",
    "class Tensor_reduction(nn.Module):\n",
    "    def __init__(self, k, i, j): # argumentos de entrada: in_units e units, que denotam o número de entradas e saídas, respectivamente.\n",
    "        super().__init__()       # chama o método construtor (__init__()) da camada base (nn.Module).\n",
    "        self.w_kij = nn.Parameter(torch.randn(k,i,j))\n",
    "        self.x_i = nn.Parameter(torch.randn(i))\n",
    "        self.x_j = nn.Parameter(torch.randn(j))\n",
    "\n",
    "\n",
    "    def forward(self, k_y):\n",
    "        y = []\n",
    "        for i in range(0, self.x_i.shape[0]):\n",
    "            # print(f'i={i}')\n",
    "            for j in range(0, self.x_j.shape[0]):\n",
    "                # print(f'j={j}')\n",
    "                y_k = self.w_kij[k_y][i][j] * self.x_i[i] * self.x_j[j]\n",
    "                y.append(y_k)\n",
    "        soma = sum(y)\n",
    "        return soma       # função de ativação ReLU. Normalmente é realizado na classe específica nn.ReLU()."
   ]
  },
  {
   "cell_type": "code",
   "execution_count": 20,
   "id": "2c5e9528-6e02-4996-8ada-c8b890f1a6cd",
   "metadata": {},
   "outputs": [],
   "source": [
    "a = Tensor_reduction(2,2,3)"
   ]
  },
  {
   "cell_type": "code",
   "execution_count": 22,
   "id": "4c853610-d358-40da-ae03-a81394504829",
   "metadata": {},
   "outputs": [
    {
     "name": "stdout",
     "output_type": "stream",
     "text": [
      "tensor(0.8137, grad_fn=<AddBackward0>)\n"
     ]
    }
   ],
   "source": [
    "y = a.forward(0)\n",
    "print(y)"
   ]
  },
  {
   "cell_type": "code",
   "execution_count": 27,
   "id": "fa9253fd-b645-4243-9b53-f424fc2aa537",
   "metadata": {},
   "outputs": [
    {
     "name": "stdout",
     "output_type": "stream",
     "text": [
      "tensor(0.8137, grad_fn=<AddBackward0>)\n"
     ]
    }
   ],
   "source": [
    "# Prova real de que a função está correta para k_y=0. Valor de y_0:\n",
    "y1 = sum(\n",
    "     [a.w_kij[0][0][0] * a.x_i[0] * a.x_j[0],\n",
    "      a.w_kij[0][0][1] * a.x_i[0] * a.x_j[1],\n",
    "      a.w_kij[0][0][2] * a.x_i[0] * a.x_j[2],\n",
    "      a.w_kij[0][1][0] * a.x_i[1] * a.x_j[0],\n",
    "      a.w_kij[0][1][1] * a.x_i[1] * a.x_j[1],\n",
    "      a.w_kij[0][1][2] * a.x_i[1] * a.x_j[2]]   \n",
    "         )\n",
    "\n",
    "print(y1)"
   ]
  },
  {
   "cell_type": "markdown",
   "id": "f3244324-05da-4ef9-8a90-468c7947581c",
   "metadata": {},
   "source": [
    "Ambos os valores são iguais."
   ]
  },
  {
   "cell_type": "markdown",
   "id": "e6d45a76-8179-4045-96b2-32009b49212d",
   "metadata": {},
   "source": [
    "# Ex. 2 - Crie uma camada que retorne a metade inicial dos coeficientes de Fourier dos dados."
   ]
  },
  {
   "cell_type": "code",
   "execution_count": 34,
   "id": "289eee11-a032-43d8-a90e-b3ed1cddf36f",
   "metadata": {},
   "outputs": [
    {
     "data": {
      "text/plain": [
       "tensor([0, 1, 2, 3])"
      ]
     },
     "execution_count": 34,
     "metadata": {},
     "output_type": "execute_result"
    }
   ],
   "source": [
    "t = torch.arange(4)\n",
    "t"
   ]
  },
  {
   "cell_type": "code",
   "execution_count": 36,
   "id": "990ce805-0c40-4146-ad92-e57c81965a4f",
   "metadata": {},
   "outputs": [
    {
     "data": {
      "text/plain": [
       "tensor([ 6.+0.j, -2.+2.j, -2.+0.j, -2.-2.j])"
      ]
     },
     "execution_count": 36,
     "metadata": {},
     "output_type": "execute_result"
    }
   ],
   "source": [
    "torch.fft.fft(t)         # Computes the one dimensional discrete Fourier transform of input."
   ]
  },
  {
   "cell_type": "markdown",
   "id": "f3736b2a-d8dc-4870-a42b-c4c2de099b5f",
   "metadata": {},
   "source": [
    "----------------------------------------------------------------"
   ]
  },
  {
   "cell_type": "code",
   "execution_count": 46,
   "id": "0e6cbb22-c471-409e-9633-4600ffbbd429",
   "metadata": {},
   "outputs": [],
   "source": [
    "import torch\n",
    "from torch import nn\n",
    "from d2l import torch as d2l\n",
    "from math import ceil\n",
    "\n",
    "class MyFourier(nn.Module):\n",
    "    def __init__(self, input): # argumentos de entrada: in_units e units, que denotam o número de entradas e saídas, respectivamente.\n",
    "        super().__init__()               # chama o método construtor (__init__()) da camada base (nn.Module).\n",
    "        self.X = nn.Parameter(torch.randn(input))\n",
    "\n",
    "    def forward(self):\n",
    "        metade = ceil(self.X.shape[0]/2)     # encontra o tamanho da metade(arredondada para cima) do tensor de entrada.\n",
    "        l = []                               # cria lista vazia.\n",
    "        for i in range(0, metade):\n",
    "            l.append(self.X[i])              # acrescesta a metade dos elementos do tensor na lista criada.\n",
    "\n",
    "        t = torch.tensor(l)                  # converte a lista em tensor.\n",
    "        f = torch.fft.fft(t)                 # Aplica a transformada de Fourier discreta nos elementos da lista\n",
    "        return f"
   ]
  },
  {
   "cell_type": "code",
   "execution_count": 47,
   "id": "57284d9f-2492-4953-8459-8a3d019237e4",
   "metadata": {},
   "outputs": [
    {
     "data": {
      "text/plain": [
       "Parameter containing:\n",
       "tensor([-0.7728, -0.3623,  1.1872, -0.1527, -1.2937, -1.6126, -1.6053, -0.6621,\n",
       "        -1.1854, -0.6268, -0.8573], requires_grad=True)"
      ]
     },
     "execution_count": 47,
     "metadata": {},
     "output_type": "execute_result"
    }
   ],
   "source": [
    "my = MyFourier(11)                          # cria objeto my utilizando a classe criada.\n",
    "my.X                                        # acessa o tensor X da classe criada."
   ]
  },
  {
   "cell_type": "code",
   "execution_count": 48,
   "id": "b92b9fca-9205-4998-8b5f-8ea27504fd33",
   "metadata": {},
   "outputs": [
    {
     "name": "stdout",
     "output_type": "stream",
     "text": [
      "tensor([-3.0069+0.0000j, -1.5544-3.2312j,  0.1153+1.0657j,  1.2483+0.0000j,\n",
      "         0.1153-1.0657j, -1.5544+3.2312j])\n"
     ]
    }
   ],
   "source": [
    "fourier = my.forward()                      # acessa f, retornada por forward, aqui intitulada de fourier.\n",
    "print(fourier)"
   ]
  },
  {
   "cell_type": "markdown",
   "id": "fb9e59f1-a5ae-4301-8aa1-31a7f882df2e",
   "metadata": {},
   "source": [
    "Retorna a metade (arredondada para cima - ceil) dos coeficientes de Fourier dos dados de entrada X."
   ]
  },
  {
   "cell_type": "markdown",
   "id": "1fd7f620-5eee-496b-b7db-f62a3a07204a",
   "metadata": {},
   "source": [
    "# outras respostas:\n",
    "\n",
    "https://pandalab.me/archives/custom_layers"
   ]
  },
  {
   "cell_type": "code",
   "execution_count": null,
   "id": "e744db2b-157b-49f8-ab97-c396765bc385",
   "metadata": {},
   "outputs": [],
   "source": []
  }
 ],
 "metadata": {
  "kernelspec": {
   "display_name": "Python 3 (ipykernel)",
   "language": "python",
   "name": "python3"
  },
  "language_info": {
   "codemirror_mode": {
    "name": "ipython",
    "version": 3
   },
   "file_extension": ".py",
   "mimetype": "text/x-python",
   "name": "python",
   "nbconvert_exporter": "python",
   "pygments_lexer": "ipython3",
   "version": "3.11.9"
  }
 },
 "nbformat": 4,
 "nbformat_minor": 5
}
