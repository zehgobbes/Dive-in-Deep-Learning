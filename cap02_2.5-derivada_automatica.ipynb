{
 "cells": [
  {
   "cell_type": "markdown",
   "id": "d8885910-59e9-49e4-ba99-4cb97191d5aa",
   "metadata": {},
   "source": [
    "# 2.5. Automatic Differentiation"
   ]
  },
  {
   "cell_type": "code",
   "execution_count": 9,
   "id": "d5e1f1b9-a333-448b-90da-22241a8fc696",
   "metadata": {},
   "outputs": [
    {
     "data": {
      "text/plain": [
       "tensor([0., 1., 2., 3.])"
      ]
     },
     "execution_count": 9,
     "metadata": {},
     "output_type": "execute_result"
    }
   ],
   "source": [
    "# https://zhang-yang.medium.com/the-gradient-argument-in-pytorchs-backward-function-explained-by-examples-68f266950c29\n",
    "\n",
    "# -------------------------------------------------------------------------------\n",
    "# Gradient with: input is vector, output is scalar\n",
    "\n",
    "import torch\n",
    "\n",
    "x = torch.arange(4.0)\n",
    "x"
   ]
  },
  {
   "cell_type": "markdown",
   "id": "1085529f-b3d8-496c-a56b-cc09a7c75891",
   "metadata": {},
   "source": [
    "Antes de calcularmos o gradiente de y em relação a x, precisamos armazena-lo. É importante que não aloquemos\n",
    "nova memória cada vez que tomamos uma derivada em relação a um parâmetro porque costumamos atualizar os\n",
    "mesmos parâmetros milhares ou milhões de vezes e podemos rapidamente ficar sem memória."
   ]
  },
  {
   "cell_type": "code",
   "execution_count": 10,
   "id": "7d603bbf-d648-44e8-b4b4-cf8b6c8a591c",
   "metadata": {},
   "outputs": [],
   "source": [
    "# x = torch.tensor([[0., 1., 2., 3.]])\n",
    "# xt = x.T\n",
    "# y=2*xt*x\n",
    "\n",
    "x.requires_grad_(True)  # Same as `x = torch.arange(4.0, requires_grad=True)`\n",
    "x.grad  # O valor padrão é None\n",
    "\n",
    "y = 2 * torch.dot(x, x)  #produto escalar (ou produto interno): o resultado é uma grandeza escalar\n",
    "# O segundo x é transposto ao primeiro x para possibilitar o produto escalar: x*x_T\n",
    "# 2.3.8. Produto escalar (Dot Products - also known as inner product) - resultado é uma grandeza escalar\n",
    "# É a soma dos produtos dos elementos na mesma posição\n",
    "# torch.dot(x, y)    # O que é equivalente a fazer: torch.sum(x * y)"
   ]
  },
  {
   "cell_type": "markdown",
   "id": "ab6e719d-47de-4f06-b098-979deefbebdc",
   "metadata": {},
   "source": [
    "Em seguida, podemos calcular automaticamente o gradiente de y com relação a cada componente de x chamando\n",
    "a função de retropropagação e imprimindo o gradiente."
   ]
  },
  {
   "cell_type": "code",
   "execution_count": 11,
   "id": "e61e4cc1-41e4-4220-b216-94d3dd8142df",
   "metadata": {},
   "outputs": [
    {
     "data": {
      "text/plain": [
       "tensor([0., 0., 0., 0.])"
      ]
     },
     "execution_count": 11,
     "metadata": {},
     "output_type": "execute_result"
    }
   ],
   "source": [
    "y.backward()  #função de retropropagação\n",
    "x.grad        #imprime o gradiente\n",
    "\n",
    "x.grad == 4 * x # Verificando se o gradiente foi calculado corretamente\n",
    "\n",
    "# O PyTorch acumula os gradientes por padrão, precisamos\n",
    "# apagar os valores anteriores\n",
    "x.grad.zero_()"
   ]
  },
  {
   "cell_type": "markdown",
   "id": "46bc83d5-7bb8-45ba-9703-ae7c86bbbee0",
   "metadata": {},
   "source": [
    "#  RESUMO 1:\n",
    "\n",
    "Gradient with: input is vector, output is scalar"
   ]
  },
  {
   "cell_type": "code",
   "execution_count": 12,
   "id": "de809ca9-a1b3-49bd-8380-df7bf468a471",
   "metadata": {},
   "outputs": [
    {
     "data": {
      "text/plain": [
       "tensor([0., 0., 0., 0.])"
      ]
     },
     "execution_count": 12,
     "metadata": {},
     "output_type": "execute_result"
    }
   ],
   "source": [
    "import torch\n",
    "\n",
    "x = torch.arange(4.0) # tensor x\n",
    "x.requires_grad_(True)  # Same as `x = torch.arange(4.0, requires_grad=True)`\n",
    "x.grad  # O valor padrão é None\n",
    "y = 2 * torch.dot(x, x)  # Função desejada\n",
    "y.backward()  #chama a função de retropropagação\n",
    "x.grad        #imprime o gradiente\n",
    "x.grad.zero_() # apagar os valores anteriores"
   ]
  },
  {
   "cell_type": "markdown",
   "id": "c07bcab3-b333-45a2-9184-0c4b75594c46",
   "metadata": {},
   "source": [
    "#  RESUMO 2:\n",
    "\n",
    "Gradient with: input is vector, output is vector"
   ]
  },
  {
   "cell_type": "code",
   "execution_count": 13,
   "id": "8c976092-9e27-4158-a69d-dd7496c8737d",
   "metadata": {},
   "outputs": [
    {
     "name": "stdout",
     "output_type": "stream",
     "text": [
      "x: tensor([0., 1., 2., 3.])\n",
      "y: tensor([ 0.,  3., 12., 27.], grad_fn=<MulBackward0>)\n",
      "x.grad: tensor([ 0.,  6., 12., 18.])\n"
     ]
    }
   ],
   "source": [
    "import torch\n",
    "\n",
    "x = torch.arange(4.0) # tensor x\n",
    "print('x:', x)\n",
    "x.requires_grad_(True)  # Same as `x = torch.arange(4.0, requires_grad=True)`\n",
    "# x.grad.zero_()  # Não está dando certo. Comentei e funcionou mesmo assim.\n",
    "y = 3*x**2\n",
    "print('y:', y)\n",
    "# y.backward(torch.ones(len(x))) # torch.ones(len(x)): cria tensor de 1s. # A oção abaixo é mais rápida:\n",
    "y.sum().backward()\n",
    "x.grad\n",
    "print('x.grad:', x.grad)"
   ]
  },
  {
   "cell_type": "code",
   "execution_count": 14,
   "id": "1d582147-0ada-4ada-a6e2-6cdecc5aa105",
   "metadata": {},
   "outputs": [
    {
     "name": "stdout",
     "output_type": "stream",
     "text": [
      "x: tensor([0., 1., 2., 3.], requires_grad=True)\n",
      "y: tensor([ 0.,  3., 12., 27.], grad_fn=<MulBackward0>)\n",
      "x.grad: tensor([ 0.,  6., 12., 18.])\n"
     ]
    }
   ],
   "source": [
    "# Opção 2:\n",
    "# input is vector, output is vector\n",
    "import torch\n",
    "x = torch.tensor([0., 1., 2., 3.], requires_grad=True)\n",
    "print('x:', x)\n",
    "y = 3*x**2        # Funciona tb com produto escalar: y = (3*x)@(x**2)\n",
    "print('y:', y)\n",
    "gradient_value = [1.]*4  # Lista de 1s com dois valores\n",
    "y.backward(torch.tensor(gradient_value))\n",
    "print('x.grad:', x.grad)   # Gradient ou a derivada\n",
    "# Out:\n",
    "# x: tensor([1., 2.], requires_grad=True)\n",
    "# y: tensor([ 3., 12.], grad_fn=<MulBackward0>)\n",
    "# x.grad: tensor([ 6., 12.])"
   ]
  },
  {
   "cell_type": "markdown",
   "id": "f18bb195-bda3-47fc-81ec-b734dea5aeca",
   "metadata": {},
   "source": [
    "# RESUMO 3: função com 2 variáveis: f(x1,x2)\n",
    "\n",
    "Gradient with: input is vector, output is vector"
   ]
  },
  {
   "cell_type": "code",
   "execution_count": 15,
   "id": "06db78fd-27dd-4c1b-81b2-d41d1000fbed",
   "metadata": {},
   "outputs": [
    {
     "name": "stdout",
     "output_type": "stream",
     "text": [
      "x1: tensor([0., 1., 2., 3.])\n",
      "x2: tensor([0., 1., 2., 3.])\n",
      "y: tensor([  5.0000,  16.5914,  48.9453, 127.4277], grad_fn=<AddBackward0>)\n",
      "x1.grad: tensor([ 0.,  6., 12., 18.])\n",
      "x2.grad: tensor([  5.0000,  13.5914,  36.9453, 100.4277])\n"
     ]
    }
   ],
   "source": [
    "import torch\n",
    "from math import e\n",
    "\n",
    "x1 = torch.arange(4.0) # tensor x1\n",
    "x2 = torch.arange(4.0) # tensor x2\n",
    "print('x1:', x1)\n",
    "print('x2:', x2)\n",
    "x1.requires_grad_(True)  # Same as `x1 = torch.arange(4.0, requires_grad=True)`\n",
    "x2.requires_grad_(True)  # Same as `x2 = torch.arange(4.0, requires_grad=True)`\n",
    "# x.grad.zero_()  # Não está dando certo. Comentei e funcionou mesmo assim.\n",
    "y = 3*(x1**2) + 5*(e**x2)  # y = f(x1,x2) --> função de duas variáveis\n",
    "print('y:', y)\n",
    "# y.backward(torch.ones(len(x))) # torch.ones(len(x)): cria tensor de 1s. # A oção abaixo é mais rápida:\n",
    "y.sum().backward()\n",
    "x1.grad\n",
    "x2.grad\n",
    "print('x1.grad:', x1.grad)   # Derivada parcial de y com relação a x1\n",
    "print('x2.grad:', x2.grad)   # Derivada parcial de y com relação a x2\n",
    "grad = torch.stack([x1.grad,x2.grad])    # stack=empilhamento:  junção dos dois tensores em um só de 2x4."
   ]
  },
  {
   "cell_type": "code",
   "execution_count": null,
   "id": "2101292c-edc6-448a-a773-e9ac7e405ff4",
   "metadata": {},
   "outputs": [],
   "source": []
  },
  {
   "cell_type": "markdown",
   "id": "abc734b8-c83e-48f2-b789-216b32d4b7d8",
   "metadata": {},
   "source": [
    "Apêndice:\n",
    "\n",
    "https://autograd.readthedocs.io/en/latest/usage.html"
   ]
  },
  {
   "cell_type": "markdown",
   "id": "fc370493-9620-4331-af4e-c566e685b4b8",
   "metadata": {},
   "source": [
    "# Derivadas sequenciais:"
   ]
  },
  {
   "cell_type": "code",
   "execution_count": 1,
   "id": "1bfb191a-b1cc-409a-86bf-1780b3c28351",
   "metadata": {},
   "outputs": [
    {
     "name": "stdout",
     "output_type": "stream",
     "text": [
      "x: tensor([0., 1., 2., 3., 4.])\n",
      "y: tensor([ 0.,  3., 12., 27., 48.], grad_fn=<MulBackward0>)\n",
      "dy1: (tensor([ 0.,  6., 12., 18., 24.], grad_fn=<MulBackward0>),)\n",
      "dy2: (tensor([6., 6., 6., 6., 6.]),)\n"
     ]
    }
   ],
   "source": [
    "# Exemplo 1: duas derivações\n",
    "\n",
    "import torch\n",
    "\n",
    "x = torch.arange(5.0) # tensor x\n",
    "print('x:', x)\n",
    "x.requires_grad_(True)\n",
    "y = 3*x**2\n",
    "print('y:', y)\n",
    "\n",
    "# First derivative:\n",
    "dy1 = torch.autograd.grad(y, x, grad_outputs=torch.ones(x.shape), retain_graph=True, create_graph=True)\n",
    "print('dy1:', dy1)\n",
    "\n",
    "# Second derivative:\n",
    "dy2 = torch.autograd.grad(dy1, x, grad_outputs=torch.ones(x.shape))  # Para mais uma derivação é preciso adicionar: retain_graph=True, create_graph=True)\n",
    "print('dy2:', dy2)"
   ]
  },
  {
   "cell_type": "code",
   "execution_count": 2,
   "id": "b3ed794d-f0b0-4317-8c41-a4ff293d36bb",
   "metadata": {},
   "outputs": [
    {
     "name": "stdout",
     "output_type": "stream",
     "text": [
      "x: tensor([0., 1., 2., 3., 4.])\n",
      "y: tensor([  0.,   2.,  16.,  54., 128.], grad_fn=<MulBackward0>)\n",
      "dy1: (tensor([ 0.,  6., 24., 54., 96.], grad_fn=<MulBackward0>),)\n",
      "dy2: (tensor([ 0., 12., 24., 36., 48.], grad_fn=<MulBackward0>),)\n",
      "dy3: (tensor([12., 12., 12., 12., 12.], grad_fn=<MulBackward0>),)\n"
     ]
    }
   ],
   "source": [
    "# Exemplo 2: três derivações\n",
    "\n",
    "import torch\n",
    "\n",
    "x = torch.arange(5.0) # tensor x\n",
    "print('x:', x)\n",
    "x.requires_grad_(True)\n",
    "y = 2*x**3\n",
    "print('y:', y)\n",
    "\n",
    "# First derivative:\n",
    "dy1 = torch.autograd.grad(y, x, grad_outputs=torch.ones(x.shape), retain_graph=True, create_graph=True)\n",
    "print('dy1:', dy1)\n",
    "\n",
    "# Second derivative:\n",
    "dy2 = torch.autograd.grad(dy1, x, grad_outputs=torch.ones(x.shape), retain_graph=True, create_graph=True)\n",
    "print('dy2:', dy2)\n",
    "\n",
    "# Third derivative:\n",
    "dy3 = torch.autograd.grad(dy2, x, grad_outputs=torch.ones(x.shape), retain_graph=True, create_graph=True)\n",
    "print('dy3:', dy3)"
   ]
  },
  {
   "cell_type": "code",
   "execution_count": null,
   "id": "ea617481-e0b8-45cc-b434-6d36547776f0",
   "metadata": {},
   "outputs": [],
   "source": []
  }
 ],
 "metadata": {
  "kernelspec": {
   "display_name": "Python 3 (ipykernel)",
   "language": "python",
   "name": "python3"
  },
  "language_info": {
   "codemirror_mode": {
    "name": "ipython",
    "version": 3
   },
   "file_extension": ".py",
   "mimetype": "text/x-python",
   "name": "python",
   "nbconvert_exporter": "python",
   "pygments_lexer": "ipython3",
   "version": "3.11.9"
  }
 },
 "nbformat": 4,
 "nbformat_minor": 5
}
